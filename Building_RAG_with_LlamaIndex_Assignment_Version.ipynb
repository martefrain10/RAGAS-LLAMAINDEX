{
  "cells": [
    {
      "cell_type": "markdown",
      "metadata": {
        "id": "view-in-github",
        "colab_type": "text"
      },
      "source": [
        "<a href=\"https://colab.research.google.com/github/martefrain10/RAGAS-LLAMAINDEX/blob/main/Building_RAG_with_LlamaIndex_Assignment_Version.ipynb\" target=\"_parent\"><img src=\"https://colab.research.google.com/assets/colab-badge.svg\" alt=\"Open In Colab\"/></a>"
      ]
    },
    {
      "cell_type": "markdown",
      "source": [
        "# Creating a LlamaIndex RAG Pipeline with NL2SQL and Metadata Filtering!\n",
        "\n",
        "We'll be putting together a system for querying both qualitative and quantitative data using LlamaIndex.\n",
        "\n",
        "The acitvities will be broken down as follows:\n",
        "\n",
        "- 🤝 Breakout Room #1\n",
        "  - Task 1: Load Dependencies\n",
        "  - Task 2: Set Env Variables and Set Up WandB Callback\n",
        "  - Task 3: Initialize Settings\n",
        "  - Task 4: Semantic RAG Pipeline with Metadata Filtering\n",
        "- 🤝 Breakout Room #2\n",
        "  - Task 1: Quantitative RAG Pipeline with NL2SQL Tooling\n",
        "  - Task 2: Combined RAG Pipeline\n",
        "\n",
        "Before we get started, however, a quick note on terminology."
      ],
      "metadata": {
        "id": "x5TTdyIoo3i7"
      }
    },
    {
      "cell_type": "markdown",
      "metadata": {
        "id": "vcvGuykZSV_8"
      },
      "source": [
        "### A note on terminology:\n",
        "\n",
        "You'll notice that there are quite a few similarities between LangChain and LlamaIndex. LlamaIndex can largely be thought of as an extension to LangChain, in some ways - but they moved some of the language around. Let's spend a few moments disambiguating the language.\n",
        "\n",
        "- `QueryEngine` -> `LCEL Chain`:\n",
        "  -  `QueryEngine` is just LlamaIndex's way of indicating something is an LLM \"chain\" on top of a retrieval system\n",
        "- `OpenAIAgent` vs. `Agent`:\n",
        "  - The two agents have the same fundamental pattern: Decide which of a list of tools to use to answer a user's query.\n",
        "  - `OpenAIAgent` (LlamaIndex's primary agent) does not need to rely on an agent excecutor due to the fact that it is leveraging OpenAI's [functional api](https://openai.com/blog/function-calling-and-other-api-updates) which allows the agent to interface \"directly\" with the tools instead of operating through an intermediary application process.\n",
        "\n",
        "There is, however, a much large terminological difference when it comes to discussing data.\n",
        "\n",
        "##### Nodes vs. Documents\n",
        "\n",
        "As you're aware of from the previous weeks assignments, there's an idea of `documents` in NLP which refers to text objects that exist within a corpus of documents.\n",
        "\n",
        "LlamaIndex takes this a step further and reclassifies `documents` as `nodes`. Confusingly, it refers to the `Source Document` as simply `Documents`.\n",
        "\n",
        "The `Document` -> `node` structure is, almost exactly, equivalent to the `Source Document` -> `Document` structure found in LangChain - but the new terminology comes with some clarity about different structure-indices.\n",
        "\n",
        "We won't be leveraging those structured indicies today, but we will be leveraging a \"benefit\" of the `node` structure that exists as a default in LlamaIndex, which is the ability to quickly filter nodes based on their metadata.\n",
        "\n",
        "![image](https://i.imgur.com/B1QDjs5.png)"
      ]
    },
    {
      "cell_type": "markdown",
      "source": [
        "# 🤝 Breakout Room #1"
      ],
      "metadata": {
        "id": "re0q6syjUVt0"
      }
    },
    {
      "cell_type": "markdown",
      "metadata": {
        "id": "Msvju70DSV_8"
      },
      "source": [
        "## BOILERPLATE\n",
        "\n",
        "This is only relevant when running the code in a Jupyter Notebook."
      ]
    },
    {
      "cell_type": "code",
      "execution_count": null,
      "metadata": {
        "id": "7VF57GcmSV_9"
      },
      "outputs": [],
      "source": [
        "import nest_asyncio\n",
        "\n",
        "nest_asyncio.apply()\n",
        "\n",
        "import logging\n",
        "import sys\n",
        "\n",
        "logging.basicConfig(stream=sys.stdout, level=logging.INFO)\n",
        "logging.getLogger().addHandler(logging.StreamHandler(stream=sys.stdout))"
      ]
    },
    {
      "cell_type": "markdown",
      "metadata": {
        "id": "6zQBPs6zSV_9"
      },
      "source": [
        "## Load Dependencies"
      ]
    },
    {
      "cell_type": "markdown",
      "metadata": {
        "id": "WhEbxl3nSV_9"
      },
      "source": [
        "Let's grab our core `llama-index` library, as well as OpenAI's Python SDK.\n",
        "\n",
        "We'll be leveraging OpenAI's suite of APIs to power our RAG pipelines today.\n",
        "\n",
        "> NOTE: You can safely ignore any pip errors that occur during the running of these cells."
      ]
    },
    {
      "cell_type": "code",
      "execution_count": 1,
      "metadata": {
        "id": "b3oyvtl2SV_9",
        "colab": {
          "base_uri": "https://localhost:8080/"
        },
        "outputId": "1c26781b-7c64-4a6e-ce32-21f3c1ba1818"
      },
      "outputs": [
        {
          "output_type": "stream",
          "name": "stdout",
          "text": [
            "\u001b[2K     \u001b[90m━━━━━━━━━━━━━━━━━━━━━━━━━━━━━━━━━━━━━━━━\u001b[0m \u001b[32m312.3/312.3 kB\u001b[0m \u001b[31m2.6 MB/s\u001b[0m eta \u001b[36m0:00:00\u001b[0m\n",
            "\u001b[2K     \u001b[90m━━━━━━━━━━━━━━━━━━━━━━━━━━━━━━━━━━━━━━━━\u001b[0m \u001b[32m15.4/15.4 MB\u001b[0m \u001b[31m9.0 MB/s\u001b[0m eta \u001b[36m0:00:00\u001b[0m\n",
            "\u001b[2K     \u001b[90m━━━━━━━━━━━━━━━━━━━━━━━━━━━━━━━━━━━━━━━━\u001b[0m \u001b[32m2.0/2.0 MB\u001b[0m \u001b[31m9.9 MB/s\u001b[0m eta \u001b[36m0:00:00\u001b[0m\n",
            "\u001b[2K     \u001b[90m━━━━━━━━━━━━━━━━━━━━━━━━━━━━━━━━━━━━━━━━\u001b[0m \u001b[32m75.6/75.6 kB\u001b[0m \u001b[31m2.5 MB/s\u001b[0m eta \u001b[36m0:00:00\u001b[0m\n",
            "\u001b[2K     \u001b[90m━━━━━━━━━━━━━━━━━━━━━━━━━━━━━━━━━━━━━━━━\u001b[0m \u001b[32m77.9/77.9 kB\u001b[0m \u001b[31m8.6 MB/s\u001b[0m eta \u001b[36m0:00:00\u001b[0m\n",
            "\u001b[2K     \u001b[90m━━━━━━━━━━━━━━━━━━━━━━━━━━━━━━━━━━━━━━━━\u001b[0m \u001b[32m58.3/58.3 kB\u001b[0m \u001b[31m5.8 MB/s\u001b[0m eta \u001b[36m0:00:00\u001b[0m\n",
            "\u001b[2K     \u001b[90m━━━━━━━━━━━━━━━━━━━━━━━━━━━━━━━━━━━━━━━━\u001b[0m \u001b[32m141.9/141.9 kB\u001b[0m \u001b[31m9.1 MB/s\u001b[0m eta \u001b[36m0:00:00\u001b[0m\n",
            "\u001b[2K     \u001b[90m━━━━━━━━━━━━━━━━━━━━━━━━━━━━━━━━━━━━━━━━\u001b[0m \u001b[32m1.8/1.8 MB\u001b[0m \u001b[31m10.3 MB/s\u001b[0m eta \u001b[36m0:00:00\u001b[0m\n",
            "\u001b[2K     \u001b[90m━━━━━━━━━━━━━━━━━━━━━━━━━━━━━━━━━━━━━━━━\u001b[0m \u001b[32m290.4/290.4 kB\u001b[0m \u001b[31m11.1 MB/s\u001b[0m eta \u001b[36m0:00:00\u001b[0m\n",
            "\u001b[2K     \u001b[90m━━━━━━━━━━━━━━━━━━━━━━━━━━━━━━━━━━━━━━━━\u001b[0m \u001b[32m49.4/49.4 kB\u001b[0m \u001b[31m2.8 MB/s\u001b[0m eta \u001b[36m0:00:00\u001b[0m\n",
            "\u001b[?25h"
          ]
        }
      ],
      "source": [
        "!pip install -qU llama-index openai"
      ]
    },
    {
      "cell_type": "markdown",
      "source": [
        "We'll be collecting our semantic data from Wikipedia - and so will need the [Wikipedia Reader](https://github.com/run-llama/llama_index/tree/main/llama-index-integrations/readers/llama-index-readers-wikipedia)!"
      ],
      "metadata": {
        "id": "uqTXRTrLPatl"
      }
    },
    {
      "cell_type": "code",
      "execution_count": 2,
      "metadata": {
        "id": "f9kXf7pPSV_-",
        "colab": {
          "base_uri": "https://localhost:8080/"
        },
        "outputId": "2b57e31f-4037-49b7-b3e2-c03d429adc2c"
      },
      "outputs": [
        {
          "output_type": "stream",
          "name": "stdout",
          "text": [
            "  Preparing metadata (setup.py) ... \u001b[?25l\u001b[?25hdone\n",
            "  Building wheel for wikipedia (setup.py) ... \u001b[?25l\u001b[?25hdone\n"
          ]
        }
      ],
      "source": [
        "!pip install -qU wikipedia llama-index-readers-wikipedia"
      ]
    },
    {
      "cell_type": "markdown",
      "source": [
        "Our vector database today will be powered by [QDrant](https://qdrant.tech/) and so we'll need that package as well!"
      ],
      "metadata": {
        "id": "Qq_rWHZEPrCO"
      }
    },
    {
      "cell_type": "code",
      "source": [
        "!pip install -qU llama-index-vector-stores-qdrant qdrant-client"
      ],
      "metadata": {
        "id": "iMCA8HFGEPF_",
        "colab": {
          "base_uri": "https://localhost:8080/"
        },
        "outputId": "dce9cd95-6019-42a1-918a-e3da7cf87ae2"
      },
      "execution_count": 3,
      "outputs": [
        {
          "output_type": "stream",
          "name": "stdout",
          "text": [
            "\u001b[2K     \u001b[90m━━━━━━━━━━━━━━━━━━━━━━━━━━━━━━━━━━━━━━━━\u001b[0m \u001b[32m229.3/229.3 kB\u001b[0m \u001b[31m1.8 MB/s\u001b[0m eta \u001b[36m0:00:00\u001b[0m\n",
            "\u001b[2K     \u001b[90m━━━━━━━━━━━━━━━━━━━━━━━━━━━━━━━━━━━━━━━━\u001b[0m \u001b[32m2.8/2.8 MB\u001b[0m \u001b[31m16.3 MB/s\u001b[0m eta \u001b[36m0:00:00\u001b[0m\n",
            "\u001b[2K     \u001b[90m━━━━━━━━━━━━━━━━━━━━━━━━━━━━━━━━━━━━━━━━\u001b[0m \u001b[32m294.6/294.6 kB\u001b[0m \u001b[31m29.4 MB/s\u001b[0m eta \u001b[36m0:00:00\u001b[0m\n",
            "\u001b[2K     \u001b[90m━━━━━━━━━━━━━━━━━━━━━━━━━━━━━━━━━━━━━━━━\u001b[0m \u001b[32m57.5/57.5 kB\u001b[0m \u001b[31m5.3 MB/s\u001b[0m eta \u001b[36m0:00:00\u001b[0m\n",
            "\u001b[?25h\u001b[31mERROR: pip's dependency resolver does not currently take into account all the packages that are installed. This behaviour is the source of the following dependency conflicts.\n",
            "tensorflow-metadata 1.14.0 requires protobuf<4.21,>=3.20.3, but you have protobuf 4.25.3 which is incompatible.\u001b[0m\u001b[31m\n",
            "\u001b[0m"
          ]
        }
      ]
    },
    {
      "cell_type": "markdown",
      "source": [
        "Finally, we'll need to grab a few dependencies related to our quantitative data!"
      ],
      "metadata": {
        "id": "wNHDqna1P1NQ"
      }
    },
    {
      "cell_type": "code",
      "execution_count": 4,
      "metadata": {
        "id": "BrT8a3c0SV__",
        "colab": {
          "base_uri": "https://localhost:8080/"
        },
        "outputId": "c7c59c74-8b9b-4f41-b2ca-e8258f314b01"
      },
      "outputs": [
        {
          "output_type": "stream",
          "name": "stdout",
          "text": [
            "\u001b[2K     \u001b[90m━━━━━━━━━━━━━━━━━━━━━━━━━━━━━━━━━━━━━━━━\u001b[0m \u001b[32m13.0/13.0 MB\u001b[0m \u001b[31m41.9 MB/s\u001b[0m eta \u001b[36m0:00:00\u001b[0m\n",
            "\u001b[?25h\u001b[31mERROR: pip's dependency resolver does not currently take into account all the packages that are installed. This behaviour is the source of the following dependency conflicts.\n",
            "google-colab 1.0.0 requires pandas==2.0.3, but you have pandas 2.2.2 which is incompatible.\u001b[0m\u001b[31m\n",
            "\u001b[0m"
          ]
        }
      ],
      "source": [
        "!pip install -q -U sqlalchemy pandas"
      ]
    },
    {
      "cell_type": "markdown",
      "source": [
        "We'll can use [Weights and Biases](https://docs.wandb.ai/guides/prompts) (WandB) as a visibility platform, as well as storing our index!"
      ],
      "metadata": {
        "id": "SS3I4FUabE-g"
      }
    },
    {
      "cell_type": "code",
      "source": [
        "!pip install -qU wandb llama-index-callbacks-wandb"
      ],
      "metadata": {
        "id": "9UcQpjG9Ovlk",
        "colab": {
          "base_uri": "https://localhost:8080/"
        },
        "outputId": "687da095-66f3-4f92-e44e-b60f28aecbca"
      },
      "execution_count": 5,
      "outputs": [
        {
          "output_type": "stream",
          "name": "stdout",
          "text": [
            "\u001b[2K     \u001b[90m━━━━━━━━━━━━━━━━━━━━━━━━━━━━━━━━━━━━━━━━\u001b[0m \u001b[32m2.2/2.2 MB\u001b[0m \u001b[31m10.1 MB/s\u001b[0m eta \u001b[36m0:00:00\u001b[0m\n",
            "\u001b[2K     \u001b[90m━━━━━━━━━━━━━━━━━━━━━━━━━━━━━━━━━━━━━━━━\u001b[0m \u001b[32m207.3/207.3 kB\u001b[0m \u001b[31m15.8 MB/s\u001b[0m eta \u001b[36m0:00:00\u001b[0m\n",
            "\u001b[2K     \u001b[90m━━━━━━━━━━━━━━━━━━━━━━━━━━━━━━━━━━━━━━━━\u001b[0m \u001b[32m266.8/266.8 kB\u001b[0m \u001b[31m26.5 MB/s\u001b[0m eta \u001b[36m0:00:00\u001b[0m\n",
            "\u001b[2K     \u001b[90m━━━━━━━━━━━━━━━━━━━━━━━━━━━━━━━━━━━━━━━━\u001b[0m \u001b[32m62.7/62.7 kB\u001b[0m \u001b[31m7.7 MB/s\u001b[0m eta \u001b[36m0:00:00\u001b[0m\n",
            "\u001b[?25h"
          ]
        }
      ]
    },
    {
      "cell_type": "code",
      "execution_count": 6,
      "metadata": {
        "id": "4OHSwkDySV_-",
        "colab": {
          "base_uri": "https://localhost:8080/"
        },
        "outputId": "e7887b38-518d-4638-e421-ee5a187094f3"
      },
      "outputs": [
        {
          "name": "stdout",
          "output_type": "stream",
          "text": [
            "WandB API Key: ··········\n"
          ]
        }
      ],
      "source": [
        "import os\n",
        "import getpass\n",
        "\n",
        "os.environ[\"WANDB_API_KEY\"] = getpass.getpass(\"WandB API Key: \")"
      ]
    },
    {
      "cell_type": "markdown",
      "source": [
        "We'll also need to set a callback handler for WandB to ensure smooth operation of our traces!"
      ],
      "metadata": {
        "id": "Ut8E447rQBjY"
      }
    },
    {
      "cell_type": "code",
      "execution_count": 7,
      "metadata": {
        "id": "MoV2JINuSV_-",
        "colab": {
          "base_uri": "https://localhost:8080/",
          "height": 71
        },
        "outputId": "da835419-1117-4733-8f18-f7b1d6e7b7a7"
      },
      "outputs": [
        {
          "output_type": "stream",
          "name": "stderr",
          "text": [
            "\u001b[34m\u001b[1mwandb\u001b[0m: Streaming LlamaIndex events to W&B at https://wandb.ai/martefrain10/llama-index-rag/runs/il0ml8f5\n",
            "\u001b[34m\u001b[1mwandb\u001b[0m: `WandbCallbackHandler` is currently in beta.\n",
            "\u001b[34m\u001b[1mwandb\u001b[0m: Please report any issues to https://github.com/wandb/wandb/issues with the tag `llamaindex`.\n"
          ]
        }
      ],
      "source": [
        "import llama_index\n",
        "from llama_index.core import set_global_handler\n",
        "\n",
        "set_global_handler(\"wandb\", run_args={\"project\": \"llama-index-rag\"})\n",
        "wandb_callback = llama_index.core.global_handler"
      ]
    },
    {
      "cell_type": "markdown",
      "source": [
        "## Task 2: Set Env Variables and Set Up WandB Callback\n",
        "\n",
        "Let's set our API keys for both OpenAI and WandB!"
      ],
      "metadata": {
        "id": "ibtguieHP6n1"
      }
    },
    {
      "cell_type": "code",
      "execution_count": 8,
      "metadata": {
        "id": "7IBgMTPTSV_9",
        "colab": {
          "base_uri": "https://localhost:8080/"
        },
        "outputId": "df49a9bc-67f5-4950-e095-e9e9cfc542be"
      },
      "outputs": [
        {
          "name": "stdout",
          "output_type": "stream",
          "text": [
            "OpenAI API Key: ··········\n"
          ]
        }
      ],
      "source": [
        "import os\n",
        "import getpass\n",
        "\n",
        "os.environ[\"OPENAI_API_KEY\"] = getpass.getpass(\"OpenAI API Key: \")"
      ]
    },
    {
      "cell_type": "markdown",
      "metadata": {
        "id": "UQwigweOSV_-"
      },
      "source": [
        "### Task 3: Settings\n",
        "\n",
        "LlamaIndex lets us set global settings which we can use to influence the default behaviour of our components.\n",
        "\n",
        "Let's set our LLM and our Embedding Model!"
      ]
    },
    {
      "cell_type": "code",
      "execution_count": 9,
      "metadata": {
        "id": "6KOy21KPSV_-"
      },
      "outputs": [],
      "source": [
        "from llama_index.llms.openai import OpenAI\n",
        "from llama_index.embeddings.openai import OpenAIEmbedding\n",
        "from llama_index.core import Settings\n",
        "\n",
        "Settings.llm = OpenAI(model=\"gpt-3.5-turbo\")\n",
        "Settings.embed_model = OpenAIEmbedding(model=\"text-embedding-3-small\")"
      ]
    },
    {
      "cell_type": "markdown",
      "metadata": {
        "id": "eiOdw7EQSV_-"
      },
      "source": [
        "## `Index` Creation\n",
        "\n",
        "In order for us to perform RAG in the traditional sense - we need an `Index`.\n",
        "\n",
        "So what is an `Index`? Well - let's see how LlamaIndex defines it:\n",
        "\n",
        "> In LlamaIndex terms, an `Index` is a data structure composed of Document objects, designed to enable querying by an LLM. Your Index is designed to be complementary to your querying strategy.\n",
        "\n",
        "Okay, so we know that we have a boatload of Wikipedia content - and we know that we want to be able to query the `Index` and receive documents that are related to our query - so let's use an `Index` built on the idea of embedding-vectors.\n",
        "\n",
        "Introducing: `VectorStoreIndex`!\n",
        "\n",
        "Again, let's see how LlamaIndex defines this:\n",
        "\n",
        "> A `VectorStoreIndex` is by far the most frequent type of `Index` you'll encounter. The Vector Store Index takes your Documents and splits them up into Nodes. It then creates `vector` embeddings of the text of every node, ready to be queried by an LLM.\n",
        "\n",
        "Alright, that sounds awesome - let's make one!"
      ]
    },
    {
      "cell_type": "markdown",
      "metadata": {
        "id": "iDEtQQWnSV_-"
      },
      "source": [
        "### Data Collection\n",
        "\n",
        "We're just going to be pulling information straight from Wikipedia using the built in `WikipediaReader`.\n",
        "\n",
        "> NOTE: Setting `auto_suggest=False` ensures we run into fewer auto-correct based errors."
      ]
    },
    {
      "cell_type": "code",
      "execution_count": 10,
      "metadata": {
        "id": "OrzzrnYMSV_-"
      },
      "outputs": [],
      "source": [
        "from llama_index.readers.wikipedia import WikipediaReader\n",
        "\n",
        "movie_list = [\n",
        "    \"Dune (2021 film)\",\n",
        "    \"Dune: Part Two\",\n",
        "    \"The Lord of the Rings: The Fellowship of the Ring\",\n",
        "    \"The Lord of the Rings: The Two Towers\",\n",
        "]\n",
        "\n",
        "wiki_docs = WikipediaReader().load_data(pages=movie_list, auto_suggest=False)"
      ]
    },
    {
      "cell_type": "markdown",
      "metadata": {
        "id": "-6FRQ4hfSV_-"
      },
      "source": [
        "### Initializing our `VectorStoreIndex` with QDrant\n",
        "\n",
        "QDrant is a locally hostable and open-source vector database solution.\n",
        "\n",
        "It offers powerful features like metadata filtering out of the box, and will suit our needs well today!\n",
        "\n",
        "We'll start by creating our local `:memory:` client (in-memory and not meant for production use-cases) and our collection."
      ]
    },
    {
      "cell_type": "code",
      "source": [
        "from llama_index.vector_stores.qdrant import QdrantVectorStore\n",
        "from qdrant_client import QdrantClient, models\n",
        "\n",
        "client = QdrantClient(location=\":memory:\")\n",
        "\n",
        "client.create_collection(\n",
        "    collection_name=\"movie_wikis\",\n",
        "    vectors_config=models.VectorParams(size=1536, distance=models.Distance.COSINE)\n",
        ")"
      ],
      "metadata": {
        "id": "b1ut96aSEVwY",
        "colab": {
          "base_uri": "https://localhost:8080/"
        },
        "outputId": "77067947-0818-4cdd-f31b-113798699a07"
      },
      "execution_count": 11,
      "outputs": [
        {
          "output_type": "execute_result",
          "data": {
            "text/plain": [
              "True"
            ]
          },
          "metadata": {},
          "execution_count": 11
        }
      ]
    },
    {
      "cell_type": "markdown",
      "source": [
        "Then we'll create our `VectorStore` and `StorageContext` which will allow us to create an empty `VectorStoreIndex` which we will be able to add nodes to later!"
      ],
      "metadata": {
        "id": "Fa3mbrfGnkCk"
      }
    },
    {
      "cell_type": "code",
      "execution_count": 12,
      "metadata": {
        "id": "lZ5xilm1SV_-",
        "colab": {
          "base_uri": "https://localhost:8080/"
        },
        "outputId": "ec989056-bac2-49e5-f82f-354f3f17704d"
      },
      "outputs": [
        {
          "output_type": "stream",
          "name": "stderr",
          "text": [
            "\u001b[34m\u001b[1mwandb\u001b[0m: Logged trace tree to W&B.\n"
          ]
        }
      ],
      "source": [
        "from llama_index.core import VectorStoreIndex\n",
        "from llama_index.core import StorageContext\n",
        "\n",
        "vector_store = QdrantVectorStore(client=client, collection_name=\"movie_wikis\")\n",
        "\n",
        "storage_context = StorageContext.from_defaults(vector_store=vector_store)\n",
        "\n",
        "index = VectorStoreIndex.from_documents(\n",
        "    [],\n",
        "    storage_context=storage_context,\n",
        ")"
      ]
    },
    {
      "cell_type": "markdown",
      "metadata": {
        "id": "6qtzVDelSV_-"
      },
      "source": [
        "### Node Construction\n",
        "\n",
        "Now we will loop through our documents and metadata and construct nodes.\n",
        "\n",
        "We'll make sure to explicitly associate our nodes with their respective movie so we can filter by the movie title in the upcoming cells.\n",
        "\n",
        "You might be thinking to yourself - wait, we never indicated which embedding model this should use - but remember"
      ]
    },
    {
      "cell_type": "code",
      "execution_count": 13,
      "metadata": {
        "id": "LP4INgSGSV_-",
        "colab": {
          "base_uri": "https://localhost:8080/"
        },
        "outputId": "c7d06c0a-f2aa-474a-84d4-9684879573d8"
      },
      "outputs": [
        {
          "output_type": "stream",
          "name": "stderr",
          "text": [
            "\u001b[34m\u001b[1mwandb\u001b[0m: Logged trace tree to W&B.\n",
            "\u001b[34m\u001b[1mwandb\u001b[0m: Logged trace tree to W&B.\n",
            "\u001b[34m\u001b[1mwandb\u001b[0m: Logged trace tree to W&B.\n",
            "\u001b[34m\u001b[1mwandb\u001b[0m: Logged trace tree to W&B.\n"
          ]
        }
      ],
      "source": [
        "from llama_index.core import SimpleDirectoryReader\n",
        "from llama_index.core.ingestion import IngestionPipeline\n",
        "from llama_index.core.node_parser import TokenTextSplitter\n",
        "from llama_index.core.extractors import TitleExtractor\n",
        "\n",
        "pipeline = IngestionPipeline(transformations=[TokenTextSplitter()])\n",
        "\n",
        "for movie, wiki_doc in zip(movie_list, wiki_docs):\n",
        "  nodes = pipeline.run(documents=[wiki_doc])\n",
        "  for node in nodes:\n",
        "      node.metadata = {\"title\" : movie}\n",
        "  index.insert_nodes(nodes)"
      ]
    },
    {
      "cell_type": "markdown",
      "source": [
        "####❓ Question #1:\n",
        "\n",
        "What `metadata` fields will the nodes in our index have?\n",
        "\n",
        "> You will need to write code to find this information\n",
        "\n",
        "-only the title metadata![wandb.png](data:image/png;base64,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)"
      ],
      "metadata": {
        "id": "biVzC-I4UAmB"
      }
    },
    {
      "cell_type": "code",
      "source": [
        "### YOUR CODE HERE\n",
        "print(nodes[0].metadata)"
      ],
      "metadata": {
        "id": "mt1lhxEnUKxO",
        "colab": {
          "base_uri": "https://localhost:8080/"
        },
        "outputId": "f39fa393-6624-4bc5-9d5e-c43bb90a0a7a"
      },
      "execution_count": 14,
      "outputs": [
        {
          "output_type": "stream",
          "name": "stdout",
          "text": [
            "{'title': 'The Lord of the Rings: The Two Towers'}\n"
          ]
        }
      ]
    },
    {
      "cell_type": "markdown",
      "source": [
        "### Persisting and Loading Stored Index with Weights and Biases\n",
        "\n",
        "Now we can utilize a powerful feature of Weights and Biases - index and artifact versioning!\n",
        "\n",
        "We can persist our index to WandB to be used and loaded later!"
      ],
      "metadata": {
        "id": "Sfbon1BwSLFS"
      }
    },
    {
      "cell_type": "code",
      "source": [
        "wandb_callback.persist_index(index, index_name=\"movie-index-qdrant\")"
      ],
      "metadata": {
        "colab": {
          "base_uri": "https://localhost:8080/"
        },
        "id": "PHJd00J3G48_",
        "outputId": "4534681e-539a-424b-d1d5-f96f84708538"
      },
      "execution_count": 15,
      "outputs": [
        {
          "output_type": "stream",
          "name": "stderr",
          "text": [
            "\u001b[34m\u001b[1mwandb\u001b[0m: Adding directory to artifact (/content/wandb/run-20240430_073225-il0ml8f5/files/storage)... Done. 0.0s\n"
          ]
        }
      ]
    },
    {
      "cell_type": "markdown",
      "source": [
        "Now we can load our index from WandB, which is a truly powerful tool!"
      ],
      "metadata": {
        "id": "jvpHLt8UShKa"
      }
    },
    {
      "cell_type": "code",
      "source": [
        "from llama_index.core import load_index_from_storage\n",
        "\n",
        "storage_context = wandb_callback.load_storage_context(\n",
        "    artifact_url=\"martefrain10/llama-index-rag/movie-index-qdrant:v2\"\n",
        ")"
      ],
      "metadata": {
        "colab": {
          "base_uri": "https://localhost:8080/"
        },
        "id": "FDZLmqTDHDrZ",
        "outputId": "71a6d9aa-465c-4c7a-c1b3-253480bcc1e3"
      },
      "execution_count": 16,
      "outputs": [
        {
          "output_type": "stream",
          "name": "stderr",
          "text": [
            "\u001b[34m\u001b[1mwandb\u001b[0m: \\ 2 of 4 files downloaded...\r\u001b[34m\u001b[1mwandb\u001b[0m:   4 of 4 files downloaded.  \n"
          ]
        }
      ]
    },
    {
      "cell_type": "markdown",
      "source": [
        "####❓ Question #2:\n",
        "\n",
        "Provide a screenshot of your index version history as shown in WandB.\n",
        "\n",
        "You can find your screenshot by doing the following:\n",
        "\n",
        "-screenshot above"
      ],
      "metadata": {
        "id": "kVVW70zyapx1"
      }
    },
    {
      "cell_type": "markdown",
      "source": [
        "## Simple RAG - QueryEngine\n",
        "\n",
        "Now that we're created our `VectorStoreIndex`, powered by a QDrant VectorStore, we can wrap it in a simple `QueryEngine` using the `as_query_engine()` method - which will connect a few things together for us:"
      ],
      "metadata": {
        "id": "kCSHKnb0mIte"
      }
    },
    {
      "cell_type": "code",
      "source": [
        "simple_rag = index.as_query_engine()"
      ],
      "metadata": {
        "id": "3ipb8j6dfLcO"
      },
      "execution_count": 17,
      "outputs": []
    },
    {
      "cell_type": "markdown",
      "source": [
        "Before we test this out - let's see what information we can find out about from our new `QueryEngine`!"
      ],
      "metadata": {
        "id": "zgJZGr5FqAME"
      }
    },
    {
      "cell_type": "code",
      "source": [
        "for k, v in simple_rag.get_prompts().items():\n",
        "  print(v.get_template())\n",
        "  print(\"\\n~~~~~~~~~~~~~~~~~~\\n\")"
      ],
      "metadata": {
        "colab": {
          "base_uri": "https://localhost:8080/"
        },
        "id": "L-3v4ntaqFmd",
        "outputId": "8b7bcaba-965a-46e7-d199-f536eb3c784b"
      },
      "execution_count": 19,
      "outputs": [
        {
          "output_type": "stream",
          "name": "stdout",
          "text": [
            "Context information is below.\n",
            "---------------------\n",
            "{context_str}\n",
            "---------------------\n",
            "Given the context information and not prior knowledge, answer the query.\n",
            "Query: {query_str}\n",
            "Answer: \n",
            "\n",
            "~~~~~~~~~~~~~~~~~~\n",
            "\n",
            "The original query is as follows: {query_str}\n",
            "We have provided an existing answer: {existing_answer}\n",
            "We have the opportunity to refine the existing answer (only if needed) with some more context below.\n",
            "------------\n",
            "{context_msg}\n",
            "------------\n",
            "Given the new context, refine the original answer to better answer the query. If the context isn't useful, return the original answer.\n",
            "Refined Answer: \n",
            "\n",
            "~~~~~~~~~~~~~~~~~~\n",
            "\n"
          ]
        }
      ]
    },
    {
      "cell_type": "markdown",
      "source": [
        "Let's see how it does!"
      ],
      "metadata": {
        "id": "N1YoR45tnv8h"
      }
    },
    {
      "cell_type": "code",
      "source": [
        "response = simple_rag.query(\"Who is the evil Wizard in the story?\")"
      ],
      "metadata": {
        "id": "FgpQhKobfQ7y",
        "colab": {
          "base_uri": "https://localhost:8080/"
        },
        "outputId": "c85754ed-cbe7-45c2-b0a2-552a6b551cf3"
      },
      "execution_count": 20,
      "outputs": [
        {
          "output_type": "stream",
          "name": "stderr",
          "text": [
            "\u001b[34m\u001b[1mwandb\u001b[0m: Logged trace tree to W&B.\n"
          ]
        }
      ]
    },
    {
      "cell_type": "code",
      "source": [
        "response.response"
      ],
      "metadata": {
        "colab": {
          "base_uri": "https://localhost:8080/",
          "height": 35
        },
        "id": "654d4vdfhnVq",
        "outputId": "51f805b9-7ddf-48f8-e43e-dcec519a39e3"
      },
      "execution_count": 21,
      "outputs": [
        {
          "output_type": "execute_result",
          "data": {
            "text/plain": [
              "'Saruman the White is the evil wizard in the story.'"
            ],
            "application/vnd.google.colaboratory.intrinsic+json": {
              "type": "string"
            }
          },
          "metadata": {},
          "execution_count": 21
        }
      ]
    },
    {
      "cell_type": "markdown",
      "source": [
        "That makes sense!\n",
        "\n",
        "Let's ask a question that's slightly more...ambiguous."
      ],
      "metadata": {
        "id": "D8rRiijvpVoQ"
      }
    },
    {
      "cell_type": "code",
      "source": [
        "response = simple_rag.query(\"Who are the giant beings that roam across the world?\")"
      ],
      "metadata": {
        "id": "_m0H1tbLiqME",
        "colab": {
          "base_uri": "https://localhost:8080/"
        },
        "outputId": "6c427359-acba-425f-fe33-fd2253869d4b"
      },
      "execution_count": 22,
      "outputs": [
        {
          "output_type": "stream",
          "name": "stderr",
          "text": [
            "\u001b[34m\u001b[1mwandb\u001b[0m: Logged trace tree to W&B.\n"
          ]
        }
      ]
    },
    {
      "cell_type": "code",
      "source": [
        "response.response"
      ],
      "metadata": {
        "colab": {
          "base_uri": "https://localhost:8080/",
          "height": 35
        },
        "id": "TEh4yjQzizeV",
        "outputId": "86abb9cc-48a8-4cc1-ef05-d0a0d912ea5c"
      },
      "execution_count": 23,
      "outputs": [
        {
          "output_type": "execute_result",
          "data": {
            "text/plain": [
              "'The giant beings that roam across the world are sandworms.'"
            ],
            "application/vnd.google.colaboratory.intrinsic+json": {
              "type": "string"
            }
          },
          "metadata": {},
          "execution_count": 23
        }
      ]
    },
    {
      "cell_type": "markdown",
      "source": [
        "We can check the source nodes to see which movies we retrieved."
      ],
      "metadata": {
        "id": "xOb6eh8_pnaX"
      }
    },
    {
      "cell_type": "code",
      "source": [
        "print([x.metadata[\"title\"] for x in response.source_nodes])"
      ],
      "metadata": {
        "colab": {
          "base_uri": "https://localhost:8080/"
        },
        "id": "y_qyApFDpPny",
        "outputId": "01c2f5c9-38a5-45ca-e93f-418bffb70cbb"
      },
      "execution_count": 24,
      "outputs": [
        {
          "output_type": "stream",
          "name": "stdout",
          "text": [
            "['Dune (2021 film)', 'The Lord of the Rings: The Fellowship of the Ring']\n"
          ]
        }
      ]
    },
    {
      "cell_type": "markdown",
      "source": [
        "Okay, so in this case - we've gone with \"Sandworms \" from Dune.\n",
        "\n",
        "But there's also the Ents from Lord of the Rings, and it looks like we got documents from Lord of the Rings as well.\n",
        "\n",
        "Let's see if there's a way we can use the title metadata we added to filter the results we get!"
      ],
      "metadata": {
        "id": "xBEXFmPapZpg"
      }
    },
    {
      "cell_type": "markdown",
      "metadata": {
        "id": "YUa5sHMsSV__"
      },
      "source": [
        "## Auto Retriever Functional Tool\n",
        "\n",
        "This tool will leverage OpenAI's functional endpoint to select the correct metadata filter and query the filtered index - only looking at nodes with the desired metadata.\n",
        "\n",
        "A simplified diagram: ![image](https://i.imgur.com/AICDPav.png)"
      ]
    },
    {
      "cell_type": "markdown",
      "metadata": {
        "id": "Z2HQHY3pSV__"
      },
      "source": [
        "First, we need to create our `VectoreStoreInfo` object which will hold all the relevant metadata we need for each component (in this case title metadata).\n",
        "\n",
        "Notice that you need to include it in a text list."
      ]
    },
    {
      "cell_type": "code",
      "execution_count": 25,
      "metadata": {
        "id": "KoAYxbdsSV__"
      },
      "outputs": [],
      "source": [
        "from llama_index.core.tools import FunctionTool\n",
        "from llama_index.core.vector_stores.types import (\n",
        "    VectorStoreInfo,\n",
        "    MetadataInfo,\n",
        "    ExactMatchFilter,\n",
        "    MetadataFilters,\n",
        ")\n",
        "from llama_index.core.retrievers import VectorIndexRetriever\n",
        "from llama_index.core.query_engine import RetrieverQueryEngine\n",
        "\n",
        "from typing import List, Tuple, Any\n",
        "from pydantic import BaseModel, Field\n",
        "\n",
        "top_k = 3\n",
        "\n",
        "vector_store_info = VectorStoreInfo(\n",
        "    content_info=\"semantic information about movies\",\n",
        "    metadata_info=[MetadataInfo(\n",
        "        name=\"title\",\n",
        "        type=\"str\",\n",
        "        description='title of the movie, one of [\"Dune (2021 film)\", \"Dune: Part Two\", \"The Lord of the Rings: The Fellowship of the Ring\", \"The Lord of the Rings: The Two Towers\"]'\n",
        "        )]\n",
        ")"
      ]
    },
    {
      "cell_type": "markdown",
      "metadata": {
        "id": "NEjK7jcsSV__"
      },
      "source": [
        "Now we'll create our base PyDantic object that we can use to ensure compatability with our application layer. This verifies that the response from the OpenAI endpoint conforms to this schema."
      ]
    },
    {
      "cell_type": "code",
      "execution_count": 26,
      "metadata": {
        "id": "yixkwF8zSV__"
      },
      "outputs": [],
      "source": [
        "class AutoRetrieveModel(BaseModel):\n",
        "    query: str = Field(..., description=\"natural language query string\")\n",
        "    filter_key_list: List[str] = Field(\n",
        "        ..., description=\"List of metadata filter field names\"\n",
        "    )\n",
        "    filter_value_list: List[str] = Field(\n",
        "        ...,\n",
        "        description=(\n",
        "            \"List of metadata filter field values (corresponding to names specified in filter_key_list)\"\n",
        "        )\n",
        "    )"
      ]
    },
    {
      "cell_type": "markdown",
      "metadata": {
        "id": "Ep6ORS3FSV__"
      },
      "source": [
        "Now we can build our function that we will use to query the functional endpoint."
      ]
    },
    {
      "cell_type": "code",
      "execution_count": 27,
      "metadata": {
        "id": "y8sPThxlSV__"
      },
      "outputs": [],
      "source": [
        "def auto_retrieve_fn(\n",
        "    query: str, filter_key_list: List[str], filter_value_list: List[str]\n",
        "):\n",
        "    \"\"\"Auto retrieval function.\n",
        "\n",
        "    Performs auto-retrieval from a vector database, and then applies a set of filters.\n",
        "\n",
        "    \"\"\"\n",
        "    query = query or \"Query\"\n",
        "\n",
        "    exact_match_filters = [\n",
        "        ExactMatchFilter(key=k, value=v)\n",
        "        for k, v in zip(filter_key_list, filter_value_list)\n",
        "    ]\n",
        "    retriever = VectorIndexRetriever(\n",
        "        index, filters=MetadataFilters(filters=exact_match_filters), top_k=top_k\n",
        "    )\n",
        "    query_engine = RetrieverQueryEngine.from_args(retriever)\n",
        "\n",
        "    response = query_engine.query(query)\n",
        "    return str(response)"
      ]
    },
    {
      "cell_type": "markdown",
      "metadata": {
        "id": "Yt4BV6oISV__"
      },
      "source": [
        "Now we need to wrap our system in a tool in order to integrate it into the larger application.\n",
        "\n",
        "Source Code Here:\n",
        "- [`FunctionTool`](https://github.com/jerryjliu/llama_index/blob/d24767b0812ac56104497d8f59095eccbe9f2b08/llama_index/tools/function_tool.py#L21)"
      ]
    },
    {
      "cell_type": "code",
      "execution_count": 28,
      "metadata": {
        "id": "U4lS1NqeSV__"
      },
      "outputs": [],
      "source": [
        "description = f\"\"\"\\\n",
        "Use this tool to look up non-review based information about films.\n",
        "The vector database schema is given below:\n",
        "{vector_store_info.json()}\n",
        "\"\"\"\n",
        "\n",
        "auto_retrieve_tool = FunctionTool.from_defaults(\n",
        "    fn=auto_retrieve_fn,\n",
        "    name=\"semantic-film-info\",\n",
        "    description=description,\n",
        "    fn_schema=AutoRetrieveModel\n",
        ")"
      ]
    },
    {
      "cell_type": "markdown",
      "source": [
        "####❓ Question #3:\n",
        "\n",
        "Is the text in the description of our `FunctionTool` important or not? Please explain your answer.\n",
        "\n",
        "I would say it is important because it provides context to anyone else who may look at the code. Because we've included vector store info json, this means that that piece of info will change, giving more context to those working with this code."
      ],
      "metadata": {
        "id": "Ka_CDeOHbF-J"
      }
    },
    {
      "cell_type": "markdown",
      "metadata": {
        "id": "ZblimmXVSV__"
      },
      "source": [
        "All that's left to do is attach the tool to an OpenAIAgent and let it rip!\n",
        "\n",
        "Source Code Here:\n",
        "- [`OpenAIAgent`](https://github.com/jerryjliu/llama_index/blob/d24767b0812ac56104497d8f59095eccbe9f2b08/llama_index/agent/openai_agent.py#L361)"
      ]
    },
    {
      "cell_type": "code",
      "execution_count": 29,
      "metadata": {
        "id": "W2hafCTxSV__"
      },
      "outputs": [],
      "source": [
        "from llama_index.agent.openai import OpenAIAgent\n",
        "\n",
        "agent = OpenAIAgent.from_tools(\n",
        "    tools=[auto_retrieve_tool],\n",
        "    verbose=True,\n",
        ")"
      ]
    },
    {
      "cell_type": "code",
      "execution_count": 30,
      "metadata": {
        "id": "DBJWDBK5SV__",
        "outputId": "bde505a3-61fa-4176-ef19-fa6cd36efc86",
        "colab": {
          "base_uri": "https://localhost:8080/"
        }
      },
      "outputs": [
        {
          "output_type": "stream",
          "name": "stdout",
          "text": [
            "Added user message to memory: Who starred in the 2021 film?\n",
            "=== Calling Function ===\n",
            "Calling function: semantic-film-info with args: {\"query\":\"cast of Dune (2021 film)\",\"filter_key_list\":[\"title\"],\"filter_value_list\":[\"Dune (2021 film)\"]}\n",
            "Got output: Timothée Chalamet, Rebecca Ferguson, Oscar Isaac, Josh Brolin, Stellan Skarsgård, Dave Bautista, Stephen McKinley Henderson, Zendaya, Chang Chen, Sharon Duncan-Brewster, Charlotte Rampling, Jason Momoa, and Javier Bardem.\n",
            "========================\n",
            "\n"
          ]
        },
        {
          "output_type": "stream",
          "name": "stderr",
          "text": [
            "\u001b[34m\u001b[1mwandb\u001b[0m: Logged trace tree to W&B.\n"
          ]
        },
        {
          "output_type": "stream",
          "name": "stdout",
          "text": [
            "The 2021 film \"Dune\" starred Timothée Chalamet, Rebecca Ferguson, Oscar Isaac, Josh Brolin, Stellan Skarsgård, Dave Bautista, Stephen McKinley Henderson, Zendaya, Chang Chen, Sharon Duncan-Brewster, Charlotte Rampling, Jason Momoa, and Javier Bardem.\n"
          ]
        }
      ],
      "source": [
        "response = agent.chat(\"Who starred in the 2021 film?\")\n",
        "print(str(response))"
      ]
    },
    {
      "cell_type": "code",
      "source": [
        "response = agent.chat(\"Who are the giant beings that roam across the world in the movies?\")\n",
        "print(str(response))"
      ],
      "metadata": {
        "colab": {
          "base_uri": "https://localhost:8080/"
        },
        "id": "UZzs2PyDuJGX",
        "outputId": "4f905952-ba45-4da1-968b-df30a3ba83b8"
      },
      "execution_count": 31,
      "outputs": [
        {
          "output_type": "stream",
          "name": "stdout",
          "text": [
            "Added user message to memory: Who are the giant beings that roam across the world in the movies?\n",
            "=== Calling Function ===\n",
            "Calling function: semantic-film-info with args: {\"query\":\"giant beings in the movies\",\"filter_key_list\":[\"title\"],\"filter_value_list\":[\"Dune (2021 film)\",\"Dune: Part Two\",\"The Lord of the Rings: The Fellowship of the Ring\",\"The Lord of the Rings: The Two Towers\"]}\n",
            "Got output: Sandworms are depicted as giant beings in the movie, commanding respect and almost seen as deities by the Fremen in the world of Dune.\n",
            "========================\n",
            "\n"
          ]
        },
        {
          "output_type": "stream",
          "name": "stderr",
          "text": [
            "\u001b[34m\u001b[1mwandb\u001b[0m: Logged trace tree to W&B.\n"
          ]
        },
        {
          "output_type": "stream",
          "name": "stdout",
          "text": [
            "The giant beings that roam across the world in the movies are Sandworms. Sandworms are depicted as giant beings in the movie \"Dune,\" commanding respect and almost seen as deities by the Fremen in the world of Dune.\n"
          ]
        }
      ]
    },
    {
      "cell_type": "markdown",
      "source": [
        "# 🤝 Breakout Room #2"
      ],
      "metadata": {
        "id": "v_GqxFCVbKch"
      }
    },
    {
      "cell_type": "markdown",
      "metadata": {
        "id": "yJcJL7VXSV__"
      },
      "source": [
        "## Quantitative RAG Pipeline with NL2SQL Tooling\n",
        "\n",
        "We'll walk through the steps of creating a natural language to SQL system in the following section.\n",
        "\n",
        "> NOTICE: This does not have parsing on the inputs or intermediary calls to ensure that users are using safe SQL queries. Use this with caution in a production environment without adding specific guardrails from either side of the application."
      ]
    },
    {
      "cell_type": "markdown",
      "metadata": {
        "id": "SsVcM0-4SV__"
      },
      "source": [
        "The next few steps should be largely straightforward, we'll want to:\n",
        "\n",
        "1. Read in our `.csv` files into `pd.DataFrame` objects\n",
        "2. Create an in-memory `sqlite` powered `sqlalchemy` engine\n",
        "3. Cast our `pd.DataFrame` objects to the SQL engine\n",
        "4. Create an `SQLDatabase` object through LlamaIndex\n",
        "5. Use that to create a `QueryEngineTool` that we can interact with through the `NLSQLTableQueryEngine`!\n",
        "\n",
        "If you get stuck, please consult the documentation."
      ]
    },
    {
      "cell_type": "code",
      "source": [
        "!wget https://raw.githubusercontent.com/AI-Maker-Space/DataRepository/main/dune1.csv"
      ],
      "metadata": {
        "id": "WwWOygTqlNBh",
        "colab": {
          "base_uri": "https://localhost:8080/"
        },
        "outputId": "17c7c92d-d5c4-473f-c7a0-bd874e863e83"
      },
      "execution_count": 32,
      "outputs": [
        {
          "output_type": "stream",
          "name": "stdout",
          "text": [
            "--2024-04-30 07:46:16--  https://raw.githubusercontent.com/AI-Maker-Space/DataRepository/main/dune1.csv\n",
            "Resolving raw.githubusercontent.com (raw.githubusercontent.com)... 185.199.108.133, 185.199.111.133, 185.199.110.133, ...\n",
            "Connecting to raw.githubusercontent.com (raw.githubusercontent.com)|185.199.108.133|:443... connected.\n",
            "HTTP request sent, awaiting response... 200 OK\n",
            "Length: 133391 (130K) [text/plain]\n",
            "Saving to: ‘dune1.csv’\n",
            "\n",
            "\rdune1.csv             0%[                    ]       0  --.-KB/s               \rdune1.csv           100%[===================>] 130.26K  --.-KB/s    in 0.02s   \n",
            "\n",
            "2024-04-30 07:46:17 (6.16 MB/s) - ‘dune1.csv’ saved [133391/133391]\n",
            "\n"
          ]
        }
      ]
    },
    {
      "cell_type": "code",
      "source": [
        "!wget https://raw.githubusercontent.com/AI-Maker-Space/DataRepository/main/dune2.csv"
      ],
      "metadata": {
        "id": "TD_9LPL9lTlG",
        "colab": {
          "base_uri": "https://localhost:8080/"
        },
        "outputId": "992bb686-f663-47f5-b124-34dc080ce439"
      },
      "execution_count": 33,
      "outputs": [
        {
          "output_type": "stream",
          "name": "stdout",
          "text": [
            "--2024-04-30 07:46:20--  https://raw.githubusercontent.com/AI-Maker-Space/DataRepository/main/dune2.csv\n",
            "Resolving raw.githubusercontent.com (raw.githubusercontent.com)... 185.199.108.133, 185.199.109.133, 185.199.110.133, ...\n",
            "Connecting to raw.githubusercontent.com (raw.githubusercontent.com)|185.199.108.133|:443... connected.\n",
            "HTTP request sent, awaiting response... 200 OK\n",
            "Length: 111843 (109K) [text/plain]\n",
            "Saving to: ‘dune2.csv’\n",
            "\n",
            "\rdune2.csv             0%[                    ]       0  --.-KB/s               \rdune2.csv           100%[===================>] 109.22K  --.-KB/s    in 0.02s   \n",
            "\n",
            "2024-04-30 07:46:20 (5.38 MB/s) - ‘dune2.csv’ saved [111843/111843]\n",
            "\n"
          ]
        }
      ]
    },
    {
      "cell_type": "code",
      "source": [
        "!wget https://raw.githubusercontent.com/AI-Maker-Space/DataRepository/main/lotr_fotr.csv"
      ],
      "metadata": {
        "colab": {
          "base_uri": "https://localhost:8080/"
        },
        "id": "QWFWvEdY1inS",
        "outputId": "df53d66c-327e-4e8e-ad00-ced3ea60c2f9"
      },
      "execution_count": 34,
      "outputs": [
        {
          "output_type": "stream",
          "name": "stdout",
          "text": [
            "--2024-04-30 07:46:22--  https://raw.githubusercontent.com/AI-Maker-Space/DataRepository/main/lotr_fotr.csv\n",
            "Resolving raw.githubusercontent.com (raw.githubusercontent.com)... 185.199.108.133, 185.199.109.133, 185.199.110.133, ...\n",
            "Connecting to raw.githubusercontent.com (raw.githubusercontent.com)|185.199.108.133|:443... connected.\n",
            "HTTP request sent, awaiting response... 200 OK\n",
            "Length: 172855 (169K) [text/plain]\n",
            "Saving to: ‘lotr_fotr.csv’\n",
            "\n",
            "\rlotr_fotr.csv         0%[                    ]       0  --.-KB/s               \rlotr_fotr.csv       100%[===================>] 168.80K  --.-KB/s    in 0.02s   \n",
            "\n",
            "2024-04-30 07:46:23 (6.86 MB/s) - ‘lotr_fotr.csv’ saved [172855/172855]\n",
            "\n"
          ]
        }
      ]
    },
    {
      "cell_type": "code",
      "source": [
        "!wget https://raw.githubusercontent.com/AI-Maker-Space/DataRepository/main/lotr_tt.csv"
      ],
      "metadata": {
        "colab": {
          "base_uri": "https://localhost:8080/"
        },
        "id": "Nto_jNmN1n-G",
        "outputId": "a64b5187-edb4-4b06-d347-1d18191f05cd"
      },
      "execution_count": 35,
      "outputs": [
        {
          "output_type": "stream",
          "name": "stdout",
          "text": [
            "--2024-04-30 07:46:26--  https://raw.githubusercontent.com/AI-Maker-Space/DataRepository/main/lotr_tt.csv\n",
            "Resolving raw.githubusercontent.com (raw.githubusercontent.com)... 185.199.108.133, 185.199.110.133, 185.199.109.133, ...\n",
            "Connecting to raw.githubusercontent.com (raw.githubusercontent.com)|185.199.108.133|:443... connected.\n",
            "HTTP request sent, awaiting response... 200 OK\n",
            "Length: 114598 (112K) [text/plain]\n",
            "Saving to: ‘lotr_tt.csv’\n",
            "\n",
            "\rlotr_tt.csv           0%[                    ]       0  --.-KB/s               \rlotr_tt.csv         100%[===================>] 111.91K  --.-KB/s    in 0.02s   \n",
            "\n",
            "2024-04-30 07:46:26 (5.08 MB/s) - ‘lotr_tt.csv’ saved [114598/114598]\n",
            "\n"
          ]
        }
      ]
    },
    {
      "cell_type": "markdown",
      "metadata": {
        "id": "8PUg-ZuTSWAC"
      },
      "source": [
        "#### Read `.csv` Into Pandas"
      ]
    },
    {
      "cell_type": "code",
      "execution_count": 36,
      "metadata": {
        "id": "52Hd8PM4SWAC"
      },
      "outputs": [],
      "source": [
        "import pandas as pd\n",
        "\n",
        "dune1 = pd.read_csv(\"./dune1.csv\")\n",
        "dune2 = pd.read_csv(\"./dune2.csv\")\n",
        "lotr_fotr = pd.read_csv(\"./lotr_fotr.csv\")\n",
        "lotr_tt = pd.read_csv(\"./lotr_tt.csv\")"
      ]
    },
    {
      "cell_type": "markdown",
      "metadata": {
        "id": "fPTNyqmpSWAC"
      },
      "source": [
        "#### Create SQLAlchemy engine with SQLite"
      ]
    },
    {
      "cell_type": "code",
      "execution_count": 37,
      "metadata": {
        "id": "4lfuPKYBSWAC"
      },
      "outputs": [],
      "source": [
        "from sqlalchemy import create_engine\n",
        "\n",
        "engine = create_engine(\"sqlite+pysqlite:///:memory:\")"
      ]
    },
    {
      "cell_type": "markdown",
      "metadata": {
        "id": "iJiYiSuHSWAC"
      },
      "source": [
        "#### Convert `pd.DataFrame` to SQL tables"
      ]
    },
    {
      "cell_type": "code",
      "execution_count": 38,
      "metadata": {
        "id": "W-96asUHSWAC",
        "outputId": "d9ddc527-29ff-4da5-a921-8fba576b7d36",
        "colab": {
          "base_uri": "https://localhost:8080/"
        }
      },
      "outputs": [
        {
          "output_type": "execute_result",
          "data": {
            "text/plain": [
              "274"
            ]
          },
          "metadata": {},
          "execution_count": 38
        }
      ],
      "source": [
        "dune1.to_sql(\n",
        "  \"Dune (2021 film)\",\n",
        "  engine\n",
        ")"
      ]
    },
    {
      "cell_type": "code",
      "execution_count": 39,
      "metadata": {
        "id": "ZwOi1RE1SWAC",
        "outputId": "baf0238b-5b41-4821-f9d7-fa92f7a04557",
        "colab": {
          "base_uri": "https://localhost:8080/"
        }
      },
      "outputs": [
        {
          "output_type": "execute_result",
          "data": {
            "text/plain": [
              "175"
            ]
          },
          "metadata": {},
          "execution_count": 39
        }
      ],
      "source": [
        "dune2.to_sql(\n",
        "  \"Dune: Part Two\",\n",
        "  engine\n",
        ")"
      ]
    },
    {
      "cell_type": "code",
      "source": [
        "lotr_fotr.to_sql(\n",
        "  \"The Lord of the Rings: The Fellowship of the Ring\",\n",
        "  engine\n",
        ")"
      ],
      "metadata": {
        "colab": {
          "base_uri": "https://localhost:8080/"
        },
        "id": "3R6FTIki4Q51",
        "outputId": "fb22a45d-e127-4534-ecc9-36bf1e50c81a"
      },
      "execution_count": 40,
      "outputs": [
        {
          "output_type": "execute_result",
          "data": {
            "text/plain": [
              "250"
            ]
          },
          "metadata": {},
          "execution_count": 40
        }
      ]
    },
    {
      "cell_type": "code",
      "source": [
        "lotr_tt.to_sql(\n",
        "  \"The Lord of the Rings: The Two Towers\",\n",
        "  engine\n",
        ")"
      ],
      "metadata": {
        "colab": {
          "base_uri": "https://localhost:8080/"
        },
        "id": "5CiP8dwV4SFZ",
        "outputId": "1e4f5321-3d6b-4adc-d878-46f0878da567"
      },
      "execution_count": 41,
      "outputs": [
        {
          "output_type": "execute_result",
          "data": {
            "text/plain": [
              "149"
            ]
          },
          "metadata": {},
          "execution_count": 41
        }
      ]
    },
    {
      "cell_type": "markdown",
      "metadata": {
        "id": "pibA9qT7SWAC"
      },
      "source": [
        "#### Construct a `SQLDatabase` index\n",
        "\n",
        "Source Code Here:\n",
        "- [`SQLDatabase`](https://github.com/jerryjliu/llama_index/blob/d24767b0812ac56104497d8f59095eccbe9f2b08/llama_index/langchain_helpers/sql_wrapper.py#L9)"
      ]
    },
    {
      "cell_type": "code",
      "execution_count": 42,
      "metadata": {
        "id": "yeDYpR1LSWAD"
      },
      "outputs": [],
      "source": [
        "from llama_index.core import SQLDatabase\n",
        "\n",
        "sql_database = SQLDatabase(\n",
        "    engine=engine,\n",
        "    include_tables=movie_list\n",
        ")"
      ]
    },
    {
      "cell_type": "markdown",
      "metadata": {
        "id": "-7VfZBenSWAD"
      },
      "source": [
        "#### Create the NLSQLTableQueryEngine interface for all added SQL tables\n",
        "\n",
        "Source Code Here:\n",
        "- [`NLSQLTableQueryEngine`](https://github.com/jerryjliu/llama_index/blob/d24767b0812ac56104497d8f59095eccbe9f2b08/llama_index/indices/struct_store/sql_query.py#L75C1-L75C1)"
      ]
    },
    {
      "cell_type": "code",
      "execution_count": 43,
      "metadata": {
        "id": "zQWSdMtrSWAD"
      },
      "outputs": [],
      "source": [
        "from llama_index.core.indices.struct_store.sql_query import NLSQLTableQueryEngine\n",
        "\n",
        "sql_query_engine = NLSQLTableQueryEngine(\n",
        "    sql_database=sql_database,\n",
        "    tables=movie_list,\n",
        ")"
      ]
    },
    {
      "cell_type": "markdown",
      "metadata": {
        "id": "yu8WfwuTSWAD"
      },
      "source": [
        "#### Wrap It All Up in a `QueryEngineTool`\n",
        "\n",
        "You'll want to ensure you have a descriptive...description!\n",
        "\n",
        "This is what will help the LLM decide which table to use when querying!\n",
        "\n",
        "Sorce Code Here:\n",
        "\n",
        "- [`QueryEngineTool`](https://github.com/jerryjliu/llama_index/blob/d24767b0812ac56104497d8f59095eccbe9f2b08/llama_index/tools/query_engine.py#L13)"
      ]
    },
    {
      "cell_type": "markdown",
      "source": [
        "####🏗️ Activity #1:\n",
        "\n",
        "Please write a Natural Language Description for the tables that we are using today.\n",
        "\n",
        "Here is an example:\n",
        "\n",
        "```\n",
        "This tool should be used to answer any and all review related inquiries by translating a natural language query into a SQL query with access to tables:\n",
        "'Dune (2021 film)' - containing info. about the first movie in the Dune series,\n",
        "'Dune: Part Two'- containing info. about about the second movie in the Dune series,\n",
        "'The Lord of the Rings: The Fellowship of the Ring' - containing info. about the first movie in the Lord of the Ring series,\n",
        "'The Lord of the Rings: The Two Towers' - containing info. the second movie in the Lord of the Ring series,\n",
        "```"
      ],
      "metadata": {
        "id": "9sjbHnA1bQBG"
      }
    },
    {
      "cell_type": "code",
      "source": [
        "DESCRIPTION = \"\"\"This tool should be used to answer any and all review related inquiries by translating a natural language query into a SQL query with access to tables:\n",
        "'Dune (2021 film)' - containing info. about the first movie in the Dune series,\n",
        "'Dune: Part Two'- containing info. about about the second movie in the Dune series,\n",
        "'The Lord of the Rings: The Fellowship of the Ring' - containing info. about the first movie in the Lord of the Ring series,\n",
        "'The Lord of the Rings: The Two Towers' - containing info. the second movie in the Lord of the Ring series,\n",
        "\"\"\""
      ],
      "metadata": {
        "id": "4n567cXVVCtX"
      },
      "execution_count": 44,
      "outputs": []
    },
    {
      "cell_type": "code",
      "execution_count": 45,
      "metadata": {
        "id": "y-mmcBbLSWAD"
      },
      "outputs": [],
      "source": [
        "from llama_index.core.tools.query_engine import QueryEngineTool\n",
        "\n",
        "sql_tool = QueryEngineTool.from_defaults(\n",
        "    query_engine=sql_query_engine,\n",
        "    name=\"sql-query\",\n",
        "    description=DESCRIPTION,\n",
        ")"
      ]
    },
    {
      "cell_type": "code",
      "execution_count": 46,
      "metadata": {
        "id": "feOrlq4XSWAD"
      },
      "outputs": [],
      "source": [
        "agent = OpenAIAgent.from_tools(\n",
        "    tools=[sql_tool],\n",
        "    verbose=True\n",
        ")"
      ]
    },
    {
      "cell_type": "code",
      "execution_count": 47,
      "metadata": {
        "id": "iT4G6stBSWAD",
        "outputId": "ea006380-8b91-4975-8b57-af2bd17a32d0",
        "colab": {
          "base_uri": "https://localhost:8080/"
        }
      },
      "outputs": [
        {
          "output_type": "stream",
          "name": "stdout",
          "text": [
            "Added user message to memory: What is the average rating of the 2nd Lord of the Rings movie?\n",
            "=== Calling Function ===\n",
            "Calling function: sql-query with args: {\"input\":\"average rating of 'The Lord of the Rings: The Two Towers'\"}\n",
            "Got output: The average rating of 'The Lord of the Rings: The Two Towers' is 9.18 out of 10.\n",
            "========================\n",
            "\n"
          ]
        },
        {
          "output_type": "stream",
          "name": "stderr",
          "text": [
            "\u001b[34m\u001b[1mwandb\u001b[0m: Logged trace tree to W&B.\n"
          ]
        }
      ],
      "source": [
        "response = agent.chat(\"What is the average rating of the 2nd Lord of the Rings movie?\")"
      ]
    },
    {
      "cell_type": "code",
      "execution_count": 48,
      "metadata": {
        "id": "NhsoxOpkSWAD",
        "outputId": "d1540fe4-028e-4722-b12b-1b26449c0396",
        "colab": {
          "base_uri": "https://localhost:8080/"
        }
      },
      "outputs": [
        {
          "output_type": "stream",
          "name": "stdout",
          "text": [
            "The average rating of the 2nd Lord of the Rings movie, \"The Lord of the Rings: The Two Towers,\" is 9.18 out of 10.\n"
          ]
        }
      ],
      "source": [
        "print(str(response))"
      ]
    },
    {
      "cell_type": "code",
      "source": [
        "response = agent.chat(\"What movie series has better reviews, Lord of the Rings or Dune?\")"
      ],
      "metadata": {
        "colab": {
          "base_uri": "https://localhost:8080/"
        },
        "id": "7FiAS6sF7DoJ",
        "outputId": "f12f4752-5e15-453b-c20b-b4c87667d59a"
      },
      "execution_count": 49,
      "outputs": [
        {
          "output_type": "stream",
          "name": "stdout",
          "text": [
            "Added user message to memory: What movie series has better reviews, Lord of the Rings or Dune?\n",
            "=== Calling Function ===\n",
            "Calling function: sql-query with args: {\"input\": \"average rating of 'The Lord of the Rings: The Fellowship of the Ring'\"}\n",
            "Got output: The average rating of \"The Lord of the Rings: The Fellowship of the Ring\" is approximately 9.87 out of 10. This indicates that the movie is highly regarded by viewers.\n",
            "========================\n",
            "\n",
            "=== Calling Function ===\n",
            "Calling function: sql-query with args: {\"input\": \"average rating of 'Dune (2021 film)'\"}\n",
            "Got output: The average rating of the movie \"Dune (2021 film)\" is approximately 8.34 out of 10.\n",
            "========================\n",
            "\n"
          ]
        },
        {
          "output_type": "stream",
          "name": "stderr",
          "text": [
            "\u001b[34m\u001b[1mwandb\u001b[0m: Logged trace tree to W&B.\n"
          ]
        }
      ]
    },
    {
      "cell_type": "code",
      "source": [
        "print(str(response))"
      ],
      "metadata": {
        "colab": {
          "base_uri": "https://localhost:8080/"
        },
        "id": "qxDA2Gjm7dDZ",
        "outputId": "81e6bb64-7f7e-4140-a975-c2c72abf3c84"
      },
      "execution_count": 50,
      "outputs": [
        {
          "output_type": "stream",
          "name": "stdout",
          "text": [
            "Based on the average ratings, the Lord of the Rings series has better reviews compared to the Dune series. \n",
            "- The average rating of \"The Lord of the Rings: The Fellowship of the Ring\" is approximately 9.87 out of 10.\n",
            "- The average rating of the movie \"Dune (2021 film)\" is approximately 8.34 out of 10.\n"
          ]
        }
      ]
    },
    {
      "cell_type": "markdown",
      "metadata": {
        "id": "-2LOixbcSWAD"
      },
      "source": [
        "### Task 2: Combined RAG Pipeline\n",
        "\n",
        "Now, we can simply add our tools into the `OpenAIAgent`, and off we go!"
      ]
    },
    {
      "cell_type": "code",
      "execution_count": 51,
      "metadata": {
        "id": "uxFHM2l2SWAD"
      },
      "outputs": [],
      "source": [
        "combined_tool_agent = OpenAIAgent.from_tools(\n",
        "    tools=[auto_retrieve_tool, sql_tool],\n",
        "    verbose=True\n",
        ")"
      ]
    },
    {
      "cell_type": "code",
      "execution_count": 52,
      "metadata": {
        "id": "mYVHuBf9SWAD",
        "outputId": "5a4e5f41-ebdc-4829-dcc8-b727fec8e968",
        "colab": {
          "base_uri": "https://localhost:8080/"
        }
      },
      "outputs": [
        {
          "output_type": "stream",
          "name": "stdout",
          "text": [
            "Added user message to memory: Which movie is about a ring, and what is the average rating of the movie?\n",
            "=== Calling Function ===\n",
            "Calling function: semantic-film-info with args: {\"query\": \"movie about a ring\", \"filter_key_list\": [\"title\"], \"filter_value_list\": [\"The Lord of the Rings: The Fellowship of the Ring\"]}\n",
            "Got output: The movie is about a powerful ring called the One Ring, which holds a great part of the Dark Lord Sauron's power. The story follows the journey of a young hobbit named Frodo Baggins and his companions, known as the Fellowship of the Ring, as they embark on a perilous quest to Mount Doom in the land of Mordor to destroy the Ring and prevent Sauron from returning to power.\n",
            "========================\n",
            "\n",
            "=== Calling Function ===\n",
            "Calling function: sql-query with args: {\"input\": \"average rating of The Lord of the Rings: The Fellowship of the Ring\"}\n",
            "Got output: The average rating of The Lord of the Rings: The Fellowship of the Ring is approximately 9.87 out of 10.\n",
            "========================\n",
            "\n"
          ]
        },
        {
          "output_type": "stream",
          "name": "stderr",
          "text": [
            "\u001b[34m\u001b[1mwandb\u001b[0m: Logged trace tree to W&B.\n"
          ]
        }
      ],
      "source": [
        "response = combined_tool_agent.chat(\"Which movie is about a ring, and what is the average rating of the movie?\")"
      ]
    },
    {
      "cell_type": "code",
      "execution_count": 53,
      "metadata": {
        "id": "k0w0VbomSWAD",
        "outputId": "3c43e7c2-48bf-4ec8-c1f8-2a121a20424c",
        "colab": {
          "base_uri": "https://localhost:8080/"
        }
      },
      "outputs": [
        {
          "output_type": "stream",
          "name": "stdout",
          "text": [
            "The movie about a ring is \"The Lord of the Rings: The Fellowship of the Ring.\" The average rating of the movie is approximately 9.87 out of 10.\n"
          ]
        }
      ],
      "source": [
        "print(str(response))"
      ]
    },
    {
      "cell_type": "code",
      "execution_count": 54,
      "metadata": {
        "id": "BJvN-vtJSWAD",
        "outputId": "41b56acb-e359-4fce-b4b4-85a7f5e87231",
        "colab": {
          "base_uri": "https://localhost:8080/"
        }
      },
      "outputs": [
        {
          "output_type": "stream",
          "name": "stdout",
          "text": [
            "Added user message to memory: What worlds do the LoTR, and Dune movies take place in?\n",
            "=== Calling Function ===\n",
            "Calling function: semantic-film-info with args: {\"query\": \"worlds in LoTR movies\", \"filter_key_list\": [\"title\"], \"filter_value_list\": [\"The Lord of the Rings: The Fellowship of the Ring\", \"The Lord of the Rings: The Two Towers\"]}\n",
            "Got output: Middle-earth\n",
            "========================\n",
            "\n",
            "=== Calling Function ===\n",
            "Calling function: semantic-film-info with args: {\"query\": \"worlds in Dune movies\", \"filter_key_list\": [\"title\"], \"filter_value_list\": [\"Dune (2021 film)\", \"Dune: Part Two\"]}\n",
            "Got output: Arrakis, Caladan, Giedi Prime\n",
            "========================\n",
            "\n"
          ]
        },
        {
          "output_type": "stream",
          "name": "stderr",
          "text": [
            "\u001b[34m\u001b[1mwandb\u001b[0m: Logged trace tree to W&B.\n"
          ]
        }
      ],
      "source": [
        "response = combined_tool_agent.chat(\"What worlds do the LoTR, and Dune movies take place in?\")"
      ]
    },
    {
      "cell_type": "code",
      "execution_count": 55,
      "metadata": {
        "id": "F74wGv6NSWAD",
        "outputId": "83932fa3-bde7-42da-daba-cfc6e0ee89f0",
        "colab": {
          "base_uri": "https://localhost:8080/"
        }
      },
      "outputs": [
        {
          "output_type": "stream",
          "name": "stdout",
          "text": [
            "The \"Lord of the Rings\" movies take place in the world of Middle-earth. \n",
            "The \"Dune\" movies take place in the worlds of Arrakis, Caladan, and Giedi Prime.\n"
          ]
        }
      ],
      "source": [
        "print(str(response))"
      ]
    },
    {
      "cell_type": "code",
      "source": [
        "response = combined_tool_agent.chat(\"Which of the following movie series is considered the 'best': Dune, or Lord of the Rings? Base your answer on both reviews, and non-review information.\")"
      ],
      "metadata": {
        "colab": {
          "base_uri": "https://localhost:8080/"
        },
        "id": "Lvat4hmkvn3N",
        "outputId": "e4b26585-271c-4090-c75b-8492fd1c58c0"
      },
      "execution_count": 56,
      "outputs": [
        {
          "output_type": "stream",
          "name": "stdout",
          "text": [
            "Added user message to memory: Which of the following movie series is considered the 'best': Dune, or Lord of the Rings? Base your answer on both reviews, and non-review information.\n",
            "=== Calling Function ===\n",
            "Calling function: semantic-film-info with args: {\"query\": \"best movie series\", \"filter_key_list\": [\"title\"], \"filter_value_list\": [\"Dune (2021 film)\", \"Dune: Part Two\", \"The Lord of the Rings: The Fellowship of the Ring\", \"The Lord of the Rings: The Two Towers\"]}\n",
            "Got output: Dune (2021 film) has been well-received and successful, with critical acclaim, numerous award nominations and wins, and plans for sequels and spin-offs. The film's adaptation of the source material, visual appeal, and audience engagement have contributed to its status as one of the best movie series.\n",
            "========================\n",
            "\n",
            "=== Calling Function ===\n",
            "Calling function: sql-query with args: {\"input\": \"reviews of Dune and Lord of the Rings\"}\n",
            "Got output: Both Dune and Lord of the Rings have received high praise for their stunning visuals, captivating storytelling, and exceptional performances. Dune, directed by Denis Villeneuve, has been hailed as a modern masterpiece for its visual and sound design, as well as its strong acting. On the other hand, Peter Jackson's Lord of the Rings trilogy has been celebrated as a perfect cinematic adaptation of J.R.R. Tolkien's epic fantasy world, with fans appreciating the beautiful environments, costumes, and intense storytelling. The Two Towers, the second film in the Lord of the Rings trilogy, has been praised for its coherence, action-packed sequences, and character development as the story progresses. Both films have solidified their places as standout examples of how big-budget films should be crafted, garnering high praise from viewers and critics alike. The Two Towers specifically has been highlighted for its incredible battle scenes and palpable suspense, making it one of the greatest sequels of all time.\n",
            "========================\n",
            "\n"
          ]
        },
        {
          "output_type": "stream",
          "name": "stderr",
          "text": [
            "\u001b[34m\u001b[1mwandb\u001b[0m: Logged trace tree to W&B.\n"
          ]
        }
      ]
    },
    {
      "cell_type": "code",
      "source": [
        "print(str(response))"
      ],
      "metadata": {
        "colab": {
          "base_uri": "https://localhost:8080/"
        },
        "id": "BEOpeuAovtZM",
        "outputId": "fe956334-c2b4-47bd-89de-81cc203ea5bd"
      },
      "execution_count": 57,
      "outputs": [
        {
          "output_type": "stream",
          "name": "stdout",
          "text": [
            "Based on both reviews and non-review information, both the \"Dune\" and \"Lord of the Rings\" movie series are considered among the best. Here are some key points:\n",
            "\n",
            "- **Dune (2021 film)**: The movie has received critical acclaim, numerous award nominations and wins, and plans for sequels and spin-offs. It has been praised for its adaptation of the source material, visual appeal, and audience engagement.\n",
            "  \n",
            "- **Lord of the Rings**: The trilogy has been celebrated as a perfect cinematic adaptation of J.R.R. Tolkien's epic fantasy world. It has been praised for its stunning visuals, captivating storytelling, exceptional performances, beautiful environments, costumes, and intense storytelling.\n",
            "\n",
            "Both series have solidified their places as standout examples of exceptional filmmaking, garnering high praise from viewers and critics alike.\n"
          ]
        }
      ]
    },
    {
      "cell_type": "markdown",
      "source": [
        "####❓ Question #4:\n",
        "\n",
        "How can you verify which tool was used for which query?\n",
        "\n",
        "You can look at the logs in WandB."
      ],
      "metadata": {
        "id": "e1qaiDJYb1_v"
      }
    },
    {
      "cell_type": "code",
      "execution_count": 58,
      "metadata": {
        "id": "D3ELqzOvSWAD"
      },
      "outputs": [],
      "source": [
        "wandb_callback.finish()"
      ]
    }
  ],
  "metadata": {
    "kernelspec": {
      "display_name": "Python 3",
      "name": "python3"
    },
    "language_info": {
      "codemirror_mode": {
        "name": "ipython",
        "version": 3
      },
      "file_extension": ".py",
      "mimetype": "text/x-python",
      "name": "python",
      "nbconvert_exporter": "python",
      "pygments_lexer": "ipython3",
      "version": "3.9.18"
    },
    "orig_nbformat": 4,
    "colab": {
      "provenance": [],
      "gpuType": "T4",
      "include_colab_link": true
    },
    "accelerator": "GPU"
  },
  "nbformat": 4,
  "nbformat_minor": 0
}